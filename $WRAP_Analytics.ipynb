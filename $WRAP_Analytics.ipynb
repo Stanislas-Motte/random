{
 "cells": [
  {
   "cell_type": "markdown",
   "metadata": {},
   "source": [
    "## WRAP holders analytics\n",
    "This notebook pulls WRAP holder data from the bettercalldev API to provide simple analytics on the quantity of WRAP tokens owned by the memebers of the Wrap community"
   ]
  },
  {
   "cell_type": "code",
   "execution_count": 116,
   "metadata": {},
   "outputs": [
    {
     "name": "stdout",
     "output_type": "stream",
     "text": [
      "Updated as of 2021-08-30\n"
     ]
    }
   ],
   "source": [
    "print(\"Updated as of\", date.today())"
   ]
  },
  {
   "cell_type": "code",
   "execution_count": 115,
   "metadata": {},
   "outputs": [],
   "source": [
    "#Import packages\n",
    "import numpy as np\n",
    "import pandas as pd\n",
    "import matplotlib.pyplot as plt\n",
    "%matplotlib inline\n",
    "from datetime import date\n",
    "import json\n",
    "import requests"
   ]
  },
  {
   "cell_type": "markdown",
   "metadata": {},
   "source": [
    "Two DataFrames Created\n",
    "* wrap_data --> includes originated accounts (smart contracts)\n",
    "* wrap_holders --> includes only implicit accounts (user accounts)"
   ]
  },
  {
   "cell_type": "code",
   "execution_count": 120,
   "metadata": {},
   "outputs": [],
   "source": [
    "#Get date\n",
    "data = requests.get('https://api.better-call.dev/v1/contract/mainnet/KT1LRboPna9yQY9BrjtQYDS1DVxhKESK4VVd/tokens/holders?token_id=0')\n",
    "wrap_dict = json.loads(data.text)\n",
    "\n",
    "#Formalize data\n",
    "wrap_data = pd.Series(wrap_dict).to_frame()\n",
    "wrap_data.reset_index(inplace = True)\n",
    "wrap_data.columns = ['adresses','$WRAP']\n",
    "wrap_data['$WRAP'] = wrap_data['$WRAP'].astype(float)/100000000\n",
    "wrap_data['contract_address'] = wrap_data['adresses'].str.contains(\"KT1\")\n",
    "#wrap_data.head(10)\n",
    "\n",
    "#Define wrap holders data frame\n",
    "wrap_holders = wrap_data[wrap_data[\"contract_address\"] == False]\n",
    "#wrap_holders.tail(5)"
   ]
  },
  {
   "cell_type": "code",
   "execution_count": 109,
   "metadata": {},
   "outputs": [
    {
     "name": "stdout",
     "output_type": "stream",
     "text": [
      "Number of $WRAP holders: 1496 \n",
      "\n",
      "Total $WRAP held by Wrap Holders: 3383881.08443506 \n",
      "\n",
      "Average $WRAP held per user address 2261.952596547505 \n",
      "\n",
      "Median $WRAP held per user address 0.018940835 \n",
      "\n",
      "Wrap quantile table \n",
      "\n",
      "0.600       0.579494\n",
      "0.700       5.147868\n",
      "0.800      28.622209\n",
      "0.900     164.517696\n",
      "0.925     288.233558\n",
      "0.950     694.640207\n",
      "0.975    1972.210050\n",
      "Name: $WRAP, dtype: float64\n"
     ]
    }
   ],
   "source": [
    "print(\"Number of $WRAP holders:\", len(wrap_holders.index), \"\\n\")\n",
    "print(\"Total $WRAP held by Wrap Holders:\", wrap_holders['$WRAP'].sum(), \"\\n\")\n",
    "print(\"Average $WRAP held per user address\", wrap_holders['$WRAP'].mean(), \"\\n\")\n",
    "print(\"Median $WRAP held per user address\", wrap_holders['$WRAP'].median(), \"\\n\")\n",
    "print(\"Wrap quantile table\", \"\\n\")\n",
    "print(wrap_holders['$WRAP'].quantile([0.6,0.7,0.8,0.9,0.925,0.95,0.975]) )"
   ]
  },
  {
   "cell_type": "code",
   "execution_count": null,
   "metadata": {},
   "outputs": [],
   "source": [
    "#NOTE: Graphs for this are almost meaningless, most adresses hold insignificant amount of $WRAP (see mean vs median)"
   ]
  }
 ],
 "metadata": {
  "kernelspec": {
   "display_name": "Python 3",
   "language": "python",
   "name": "python3"
  },
  "language_info": {
   "codemirror_mode": {
    "name": "ipython",
    "version": 3
   },
   "file_extension": ".py",
   "mimetype": "text/x-python",
   "name": "python",
   "nbconvert_exporter": "python",
   "pygments_lexer": "ipython3",
   "version": "3.8.5"
  }
 },
 "nbformat": 4,
 "nbformat_minor": 4
}
